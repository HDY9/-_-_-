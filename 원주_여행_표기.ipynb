{
 "cells": [
  {
   "cell_type": "code",
   "execution_count": 1,
   "id": "8476c993",
   "metadata": {},
   "outputs": [
    {
     "data": {
      "text/html": [
       "<div style=\"width:100%;\"><div style=\"position:relative;width:100%;height:0;padding-bottom:60%;\"><span style=\"color:#565656\">Make this Notebook Trusted to load map: File -> Trust Notebook</span><iframe srcdoc=\"&lt;!DOCTYPE html&gt;\n",
       "&lt;head&gt;    \n",
       "    &lt;meta http-equiv=&quot;content-type&quot; content=&quot;text/html; charset=UTF-8&quot; /&gt;\n",
       "    \n",
       "        &lt;script&gt;\n",
       "            L_NO_TOUCH = false;\n",
       "            L_DISABLE_3D = false;\n",
       "        &lt;/script&gt;\n",
       "    \n",
       "    &lt;style&gt;html, body {width: 100%;height: 100%;margin: 0;padding: 0;}&lt;/style&gt;\n",
       "    &lt;style&gt;#map {position:absolute;top:0;bottom:0;right:0;left:0;}&lt;/style&gt;\n",
       "    &lt;script src=&quot;https://cdn.jsdelivr.net/npm/leaflet@1.6.0/dist/leaflet.js&quot;&gt;&lt;/script&gt;\n",
       "    &lt;script src=&quot;https://code.jquery.com/jquery-1.12.4.min.js&quot;&gt;&lt;/script&gt;\n",
       "    &lt;script src=&quot;https://maxcdn.bootstrapcdn.com/bootstrap/3.2.0/js/bootstrap.min.js&quot;&gt;&lt;/script&gt;\n",
       "    &lt;script src=&quot;https://cdnjs.cloudflare.com/ajax/libs/Leaflet.awesome-markers/2.0.2/leaflet.awesome-markers.js&quot;&gt;&lt;/script&gt;\n",
       "    &lt;link rel=&quot;stylesheet&quot; href=&quot;https://cdn.jsdelivr.net/npm/leaflet@1.6.0/dist/leaflet.css&quot;/&gt;\n",
       "    &lt;link rel=&quot;stylesheet&quot; href=&quot;https://maxcdn.bootstrapcdn.com/bootstrap/3.2.0/css/bootstrap.min.css&quot;/&gt;\n",
       "    &lt;link rel=&quot;stylesheet&quot; href=&quot;https://maxcdn.bootstrapcdn.com/bootstrap/3.2.0/css/bootstrap-theme.min.css&quot;/&gt;\n",
       "    &lt;link rel=&quot;stylesheet&quot; href=&quot;https://maxcdn.bootstrapcdn.com/font-awesome/4.6.3/css/font-awesome.min.css&quot;/&gt;\n",
       "    &lt;link rel=&quot;stylesheet&quot; href=&quot;https://cdnjs.cloudflare.com/ajax/libs/Leaflet.awesome-markers/2.0.2/leaflet.awesome-markers.css&quot;/&gt;\n",
       "    &lt;link rel=&quot;stylesheet&quot; href=&quot;https://cdn.jsdelivr.net/gh/python-visualization/folium/folium/templates/leaflet.awesome.rotate.min.css&quot;/&gt;\n",
       "    \n",
       "            &lt;meta name=&quot;viewport&quot; content=&quot;width=device-width,\n",
       "                initial-scale=1.0, maximum-scale=1.0, user-scalable=no&quot; /&gt;\n",
       "            &lt;style&gt;\n",
       "                #map_3a2fb5416f17aac6b78cee40f467e8ea {\n",
       "                    position: relative;\n",
       "                    width: 100.0%;\n",
       "                    height: 100.0%;\n",
       "                    left: 0.0%;\n",
       "                    top: 0.0%;\n",
       "                }\n",
       "            &lt;/style&gt;\n",
       "        \n",
       "&lt;/head&gt;\n",
       "&lt;body&gt;    \n",
       "    \n",
       "            &lt;div class=&quot;folium-map&quot; id=&quot;map_3a2fb5416f17aac6b78cee40f467e8ea&quot; &gt;&lt;/div&gt;\n",
       "        \n",
       "&lt;/body&gt;\n",
       "&lt;script&gt;    \n",
       "    \n",
       "            var map_3a2fb5416f17aac6b78cee40f467e8ea = L.map(\n",
       "                &quot;map_3a2fb5416f17aac6b78cee40f467e8ea&quot;,\n",
       "                {\n",
       "                    center: [37.3422186, 127.9201621],\n",
       "                    crs: L.CRS.EPSG3857,\n",
       "                    zoom: 12,\n",
       "                    zoomControl: true,\n",
       "                    preferCanvas: false,\n",
       "                }\n",
       "            );\n",
       "\n",
       "            \n",
       "\n",
       "        \n",
       "    \n",
       "            var tile_layer_5d5d90fce758e7a5d484f93b58463d67 = L.tileLayer(\n",
       "                &quot;https://{s}.tile.openstreetmap.org/{z}/{x}/{y}.png&quot;,\n",
       "                {&quot;attribution&quot;: &quot;Data by \\u0026copy; \\u003ca href=\\&quot;http://openstreetmap.org\\&quot;\\u003eOpenStreetMap\\u003c/a\\u003e, under \\u003ca href=\\&quot;http://www.openstreetmap.org/copyright\\&quot;\\u003eODbL\\u003c/a\\u003e.&quot;, &quot;detectRetina&quot;: false, &quot;maxNativeZoom&quot;: 18, &quot;maxZoom&quot;: 18, &quot;minZoom&quot;: 0, &quot;noWrap&quot;: false, &quot;opacity&quot;: 1, &quot;subdomains&quot;: &quot;abc&quot;, &quot;tms&quot;: false}\n",
       "            ).addTo(map_3a2fb5416f17aac6b78cee40f467e8ea);\n",
       "        \n",
       "&lt;/script&gt;\" style=\"position:absolute;width:100%;height:100%;left:0;top:0;border:none !important;\" allowfullscreen webkitallowfullscreen mozallowfullscreen></iframe></div></div>"
      ],
      "text/plain": [
       "<folium.folium.Map at 0x287efd4ed60>"
      ]
     },
     "execution_count": 1,
     "metadata": {},
     "output_type": "execute_result"
    }
   ],
   "source": [
    "import folium\n",
    "\n",
    "folium.Map(location=[37.3422186,127.9201621], zoom_start=12)"
   ]
  },
  {
   "cell_type": "code",
   "execution_count": 3,
   "id": "42aa8e87",
   "metadata": {},
   "outputs": [
    {
     "data": {
      "text/html": [
       "<div>\n",
       "<style scoped>\n",
       "    .dataframe tbody tr th:only-of-type {\n",
       "        vertical-align: middle;\n",
       "    }\n",
       "\n",
       "    .dataframe tbody tr th {\n",
       "        vertical-align: top;\n",
       "    }\n",
       "\n",
       "    .dataframe thead th {\n",
       "        text-align: right;\n",
       "    }\n",
       "</style>\n",
       "<table border=\"1\" class=\"dataframe\">\n",
       "  <thead>\n",
       "    <tr style=\"text-align: right;\">\n",
       "      <th></th>\n",
       "      <th>구분</th>\n",
       "      <th>위도</th>\n",
       "      <th>경도</th>\n",
       "    </tr>\n",
       "  </thead>\n",
       "  <tbody>\n",
       "    <tr>\n",
       "      <th>0</th>\n",
       "      <td>싸리치펜션</td>\n",
       "      <td>37.248320</td>\n",
       "      <td>128.107836</td>\n",
       "    </tr>\n",
       "    <tr>\n",
       "      <th>1</th>\n",
       "      <td>스카이위크(출렁다리)</td>\n",
       "      <td>37.367494</td>\n",
       "      <td>127.825242</td>\n",
       "    </tr>\n",
       "    <tr>\n",
       "      <th>2</th>\n",
       "      <td>뮤지엄산</td>\n",
       "      <td>37.418889</td>\n",
       "      <td>127.823056</td>\n",
       "    </tr>\n",
       "  </tbody>\n",
       "</table>\n",
       "</div>"
      ],
      "text/plain": [
       "           구분          위도          경도\n",
       "0        싸리치펜션  37.248320  128.107836\n",
       "1  스카이위크(출렁다리)  37.367494  127.825242\n",
       "2         뮤지엄산  37.418889  127.823056"
      ]
     },
     "execution_count": 3,
     "metadata": {},
     "output_type": "execute_result"
    }
   ],
   "source": [
    "import pandas as pd\n",
    "pd.read_excel('원주_여행지_목록.xlsx')"
   ]
  },
  {
   "cell_type": "code",
   "execution_count": 4,
   "id": "c2d1e0bb",
   "metadata": {},
   "outputs": [],
   "source": [
    "df = pd.read_excel('원주_여행지_목록.xlsx')"
   ]
  },
  {
   "cell_type": "code",
   "execution_count": 5,
   "id": "68067171",
   "metadata": {},
   "outputs": [],
   "source": [
    "df.columns = ['구분','위도','경도']"
   ]
  },
  {
   "cell_type": "code",
   "execution_count": 6,
   "id": "3b0f51cf",
   "metadata": {},
   "outputs": [
    {
     "data": {
      "text/plain": [
       "Index(['구분', '위도', '경도'], dtype='object')"
      ]
     },
     "execution_count": 6,
     "metadata": {},
     "output_type": "execute_result"
    }
   ],
   "source": [
    "df.columns"
   ]
  },
  {
   "cell_type": "code",
   "execution_count": 7,
   "id": "6993a93e",
   "metadata": {},
   "outputs": [],
   "source": [
    "df.set_index('구분', inplace=True)"
   ]
  },
  {
   "cell_type": "code",
   "execution_count": 8,
   "id": "c35545e3",
   "metadata": {},
   "outputs": [
    {
     "data": {
      "text/html": [
       "<div>\n",
       "<style scoped>\n",
       "    .dataframe tbody tr th:only-of-type {\n",
       "        vertical-align: middle;\n",
       "    }\n",
       "\n",
       "    .dataframe tbody tr th {\n",
       "        vertical-align: top;\n",
       "    }\n",
       "\n",
       "    .dataframe thead th {\n",
       "        text-align: right;\n",
       "    }\n",
       "</style>\n",
       "<table border=\"1\" class=\"dataframe\">\n",
       "  <thead>\n",
       "    <tr style=\"text-align: right;\">\n",
       "      <th></th>\n",
       "      <th>위도</th>\n",
       "      <th>경도</th>\n",
       "    </tr>\n",
       "    <tr>\n",
       "      <th>구분</th>\n",
       "      <th></th>\n",
       "      <th></th>\n",
       "    </tr>\n",
       "  </thead>\n",
       "  <tbody>\n",
       "    <tr>\n",
       "      <th>싸리치펜션</th>\n",
       "      <td>37.248320</td>\n",
       "      <td>128.107836</td>\n",
       "    </tr>\n",
       "    <tr>\n",
       "      <th>스카이위크(출렁다리)</th>\n",
       "      <td>37.367494</td>\n",
       "      <td>127.825242</td>\n",
       "    </tr>\n",
       "    <tr>\n",
       "      <th>뮤지엄산</th>\n",
       "      <td>37.418889</td>\n",
       "      <td>127.823056</td>\n",
       "    </tr>\n",
       "  </tbody>\n",
       "</table>\n",
       "</div>"
      ],
      "text/plain": [
       "                    위도          경도\n",
       "구분                                \n",
       "싸리치펜션        37.248320  128.107836\n",
       "스카이위크(출렁다리)  37.367494  127.825242\n",
       "뮤지엄산         37.418889  127.823056"
      ]
     },
     "execution_count": 8,
     "metadata": {},
     "output_type": "execute_result"
    }
   ],
   "source": [
    "df"
   ]
  },
  {
   "cell_type": "code",
   "execution_count": 9,
   "id": "469737c6",
   "metadata": {},
   "outputs": [],
   "source": [
    "wonju_map_terrain = folium.Map(location=[37.3422186,127.9201621], zoom_start=12)"
   ]
  },
  {
   "cell_type": "code",
   "execution_count": 10,
   "id": "2e20c301",
   "metadata": {},
   "outputs": [
    {
     "name": "stdout",
     "output_type": "stream",
     "text": [
      "싸리치펜션 37.2483197 128.1078359\n",
      "스카이위크(출렁다리) 37.3674937 127.8252424\n",
      "뮤지엄산 37.4188889 127.8230556\n"
     ]
    },
    {
     "name": "stderr",
     "output_type": "stream",
     "text": [
      "C:\\Users\\광운MOOC센터\\AppData\\Local\\Temp\\ipykernel_12324\\1906225709.py:13: UserWarning: color argument of Icon should be one of: {'blue', 'lightred', 'white', 'cadetblue', 'darkblue', 'gray', 'beige', 'lightgray', 'green', 'lightgreen', 'black', 'pink', 'purple', 'darkred', 'darkgreen', 'darkpurple', 'orange', 'lightblue', 'red'}.\n",
      "  icon = folium.Icon(color='yellow',\n"
     ]
    },
    {
     "data": {
      "text/plain": [
       "<folium.map.Marker at 0x287f428d940>"
      ]
     },
     "execution_count": 10,
     "metadata": {},
     "output_type": "execute_result"
    }
   ],
   "source": [
    "for name, lat, lon in zip(df.index, df.위도, df.경도): \n",
    "    print(name,lat,lon)\n",
    "    folium.Marker([lat,lon], popup=name).add_to(wonju_map_terrain)\n",
    "\n",
    "folium.Marker(\n",
    "    location = [37.2483197, 128.1078359],\n",
    "    icon = folium.Icon(color='black',\n",
    "                      icon='cloud',\n",
    "                      icon_color='red'), tooltip='<i>원주_싸리치_펜션</i>').add_to(wonju_map_terrain)\n",
    "\n",
    "folium.Marker(\n",
    "    location = [37.3674937, 127.8252424],\n",
    "    icon = folium.Icon(color='yellow',\n",
    "                      icon='cloud',\n",
    "                      icon_color='blue'), tooltip='<i>원주_스카이위크(출렁다리)</i>').add_to(wonju_map_terrain)\n",
    "\n",
    "folium.Marker(\n",
    "    location = [37.4188889, 127.8230556],\n",
    "    icon = folium.Icon(color='green',\n",
    "                      icon='cloud',\n",
    "                      icon_color='blue'), tooltip='<i>원주_뮤지엄산</i>').add_to(wonju_map_terrain)"
   ]
  },
  {
   "cell_type": "code",
   "execution_count": 11,
   "id": "fbf367ac",
   "metadata": {},
   "outputs": [
    {
     "data": {
      "text/html": [
       "<div style=\"width:100%;\"><div style=\"position:relative;width:100%;height:0;padding-bottom:60%;\"><span style=\"color:#565656\">Make this Notebook Trusted to load map: File -> Trust Notebook</span><iframe srcdoc=\"&lt;!DOCTYPE html&gt;\n",
       "&lt;head&gt;    \n",
       "    &lt;meta http-equiv=&quot;content-type&quot; content=&quot;text/html; charset=UTF-8&quot; /&gt;\n",
       "    \n",
       "        &lt;script&gt;\n",
       "            L_NO_TOUCH = false;\n",
       "            L_DISABLE_3D = false;\n",
       "        &lt;/script&gt;\n",
       "    \n",
       "    &lt;style&gt;html, body {width: 100%;height: 100%;margin: 0;padding: 0;}&lt;/style&gt;\n",
       "    &lt;style&gt;#map {position:absolute;top:0;bottom:0;right:0;left:0;}&lt;/style&gt;\n",
       "    &lt;script src=&quot;https://cdn.jsdelivr.net/npm/leaflet@1.6.0/dist/leaflet.js&quot;&gt;&lt;/script&gt;\n",
       "    &lt;script src=&quot;https://code.jquery.com/jquery-1.12.4.min.js&quot;&gt;&lt;/script&gt;\n",
       "    &lt;script src=&quot;https://maxcdn.bootstrapcdn.com/bootstrap/3.2.0/js/bootstrap.min.js&quot;&gt;&lt;/script&gt;\n",
       "    &lt;script src=&quot;https://cdnjs.cloudflare.com/ajax/libs/Leaflet.awesome-markers/2.0.2/leaflet.awesome-markers.js&quot;&gt;&lt;/script&gt;\n",
       "    &lt;link rel=&quot;stylesheet&quot; href=&quot;https://cdn.jsdelivr.net/npm/leaflet@1.6.0/dist/leaflet.css&quot;/&gt;\n",
       "    &lt;link rel=&quot;stylesheet&quot; href=&quot;https://maxcdn.bootstrapcdn.com/bootstrap/3.2.0/css/bootstrap.min.css&quot;/&gt;\n",
       "    &lt;link rel=&quot;stylesheet&quot; href=&quot;https://maxcdn.bootstrapcdn.com/bootstrap/3.2.0/css/bootstrap-theme.min.css&quot;/&gt;\n",
       "    &lt;link rel=&quot;stylesheet&quot; href=&quot;https://maxcdn.bootstrapcdn.com/font-awesome/4.6.3/css/font-awesome.min.css&quot;/&gt;\n",
       "    &lt;link rel=&quot;stylesheet&quot; href=&quot;https://cdnjs.cloudflare.com/ajax/libs/Leaflet.awesome-markers/2.0.2/leaflet.awesome-markers.css&quot;/&gt;\n",
       "    &lt;link rel=&quot;stylesheet&quot; href=&quot;https://cdn.jsdelivr.net/gh/python-visualization/folium/folium/templates/leaflet.awesome.rotate.min.css&quot;/&gt;\n",
       "    \n",
       "            &lt;meta name=&quot;viewport&quot; content=&quot;width=device-width,\n",
       "                initial-scale=1.0, maximum-scale=1.0, user-scalable=no&quot; /&gt;\n",
       "            &lt;style&gt;\n",
       "                #map_e45950d105af7971ee4a3fb3ff9eb6c4 {\n",
       "                    position: relative;\n",
       "                    width: 100.0%;\n",
       "                    height: 100.0%;\n",
       "                    left: 0.0%;\n",
       "                    top: 0.0%;\n",
       "                }\n",
       "            &lt;/style&gt;\n",
       "        \n",
       "&lt;/head&gt;\n",
       "&lt;body&gt;    \n",
       "    \n",
       "            &lt;div class=&quot;folium-map&quot; id=&quot;map_e45950d105af7971ee4a3fb3ff9eb6c4&quot; &gt;&lt;/div&gt;\n",
       "        \n",
       "&lt;/body&gt;\n",
       "&lt;script&gt;    \n",
       "    \n",
       "            var map_e45950d105af7971ee4a3fb3ff9eb6c4 = L.map(\n",
       "                &quot;map_e45950d105af7971ee4a3fb3ff9eb6c4&quot;,\n",
       "                {\n",
       "                    center: [37.3422186, 127.9201621],\n",
       "                    crs: L.CRS.EPSG3857,\n",
       "                    zoom: 12,\n",
       "                    zoomControl: true,\n",
       "                    preferCanvas: false,\n",
       "                }\n",
       "            );\n",
       "\n",
       "            \n",
       "\n",
       "        \n",
       "    \n",
       "            var tile_layer_33a78b8f50e891dae8b4f97a35b502ab = L.tileLayer(\n",
       "                &quot;https://{s}.tile.openstreetmap.org/{z}/{x}/{y}.png&quot;,\n",
       "                {&quot;attribution&quot;: &quot;Data by \\u0026copy; \\u003ca href=\\&quot;http://openstreetmap.org\\&quot;\\u003eOpenStreetMap\\u003c/a\\u003e, under \\u003ca href=\\&quot;http://www.openstreetmap.org/copyright\\&quot;\\u003eODbL\\u003c/a\\u003e.&quot;, &quot;detectRetina&quot;: false, &quot;maxNativeZoom&quot;: 18, &quot;maxZoom&quot;: 18, &quot;minZoom&quot;: 0, &quot;noWrap&quot;: false, &quot;opacity&quot;: 1, &quot;subdomains&quot;: &quot;abc&quot;, &quot;tms&quot;: false}\n",
       "            ).addTo(map_e45950d105af7971ee4a3fb3ff9eb6c4);\n",
       "        \n",
       "    \n",
       "            var marker_759e4046c44f941c7bf52b69e5932962 = L.marker(\n",
       "                [37.2483197, 128.1078359],\n",
       "                {}\n",
       "            ).addTo(map_e45950d105af7971ee4a3fb3ff9eb6c4);\n",
       "        \n",
       "    \n",
       "        var popup_198ff82fef82a8bf77437526c00b78f8 = L.popup({&quot;maxWidth&quot;: &quot;100%&quot;});\n",
       "\n",
       "        \n",
       "            var html_4f7640995fccddc443e563a9997210fb = $(`&lt;div id=&quot;html_4f7640995fccddc443e563a9997210fb&quot; style=&quot;width: 100.0%; height: 100.0%;&quot;&gt;싸리치펜션&lt;/div&gt;`)[0];\n",
       "            popup_198ff82fef82a8bf77437526c00b78f8.setContent(html_4f7640995fccddc443e563a9997210fb);\n",
       "        \n",
       "\n",
       "        marker_759e4046c44f941c7bf52b69e5932962.bindPopup(popup_198ff82fef82a8bf77437526c00b78f8)\n",
       "        ;\n",
       "\n",
       "        \n",
       "    \n",
       "    \n",
       "            var marker_29e81a6fb47f08b777e778f736096d16 = L.marker(\n",
       "                [37.3674937, 127.8252424],\n",
       "                {}\n",
       "            ).addTo(map_e45950d105af7971ee4a3fb3ff9eb6c4);\n",
       "        \n",
       "    \n",
       "        var popup_8126dec56933698f07cc2ba529e454f9 = L.popup({&quot;maxWidth&quot;: &quot;100%&quot;});\n",
       "\n",
       "        \n",
       "            var html_c17d109f1f32d8e7469418107d8d5dfc = $(`&lt;div id=&quot;html_c17d109f1f32d8e7469418107d8d5dfc&quot; style=&quot;width: 100.0%; height: 100.0%;&quot;&gt;스카이위크(출렁다리)&lt;/div&gt;`)[0];\n",
       "            popup_8126dec56933698f07cc2ba529e454f9.setContent(html_c17d109f1f32d8e7469418107d8d5dfc);\n",
       "        \n",
       "\n",
       "        marker_29e81a6fb47f08b777e778f736096d16.bindPopup(popup_8126dec56933698f07cc2ba529e454f9)\n",
       "        ;\n",
       "\n",
       "        \n",
       "    \n",
       "    \n",
       "            var marker_e62c41db6467387369c7b915d3b84492 = L.marker(\n",
       "                [37.4188889, 127.8230556],\n",
       "                {}\n",
       "            ).addTo(map_e45950d105af7971ee4a3fb3ff9eb6c4);\n",
       "        \n",
       "    \n",
       "        var popup_3b7fd62e98daf3f6fbe6823d9cdb66c5 = L.popup({&quot;maxWidth&quot;: &quot;100%&quot;});\n",
       "\n",
       "        \n",
       "            var html_635a5aba41c504936d049dcef2684f89 = $(`&lt;div id=&quot;html_635a5aba41c504936d049dcef2684f89&quot; style=&quot;width: 100.0%; height: 100.0%;&quot;&gt;뮤지엄산&lt;/div&gt;`)[0];\n",
       "            popup_3b7fd62e98daf3f6fbe6823d9cdb66c5.setContent(html_635a5aba41c504936d049dcef2684f89);\n",
       "        \n",
       "\n",
       "        marker_e62c41db6467387369c7b915d3b84492.bindPopup(popup_3b7fd62e98daf3f6fbe6823d9cdb66c5)\n",
       "        ;\n",
       "\n",
       "        \n",
       "    \n",
       "    \n",
       "            var marker_3a587f17649d3dece24984faedbc05e4 = L.marker(\n",
       "                [37.2483197, 128.1078359],\n",
       "                {}\n",
       "            ).addTo(map_e45950d105af7971ee4a3fb3ff9eb6c4);\n",
       "        \n",
       "    \n",
       "            var icon_322bd7b74b0a7247cd49f0ca6cfc438d = L.AwesomeMarkers.icon(\n",
       "                {&quot;extraClasses&quot;: &quot;fa-rotate-0&quot;, &quot;icon&quot;: &quot;cloud&quot;, &quot;iconColor&quot;: &quot;red&quot;, &quot;markerColor&quot;: &quot;black&quot;, &quot;prefix&quot;: &quot;glyphicon&quot;}\n",
       "            );\n",
       "            marker_3a587f17649d3dece24984faedbc05e4.setIcon(icon_322bd7b74b0a7247cd49f0ca6cfc438d);\n",
       "        \n",
       "    \n",
       "            marker_3a587f17649d3dece24984faedbc05e4.bindTooltip(\n",
       "                `&lt;div&gt;\n",
       "                     &lt;i&gt;원주_싸리치_펜션&lt;/i&gt;\n",
       "                 &lt;/div&gt;`,\n",
       "                {&quot;sticky&quot;: true}\n",
       "            );\n",
       "        \n",
       "    \n",
       "            var marker_fe6e41bc2060c2cf68ffb3c55387ed15 = L.marker(\n",
       "                [37.3674937, 127.8252424],\n",
       "                {}\n",
       "            ).addTo(map_e45950d105af7971ee4a3fb3ff9eb6c4);\n",
       "        \n",
       "    \n",
       "            var icon_6a279861534a5e5ebed772d5ca658cfe = L.AwesomeMarkers.icon(\n",
       "                {&quot;extraClasses&quot;: &quot;fa-rotate-0&quot;, &quot;icon&quot;: &quot;cloud&quot;, &quot;iconColor&quot;: &quot;blue&quot;, &quot;markerColor&quot;: &quot;yellow&quot;, &quot;prefix&quot;: &quot;glyphicon&quot;}\n",
       "            );\n",
       "            marker_fe6e41bc2060c2cf68ffb3c55387ed15.setIcon(icon_6a279861534a5e5ebed772d5ca658cfe);\n",
       "        \n",
       "    \n",
       "            marker_fe6e41bc2060c2cf68ffb3c55387ed15.bindTooltip(\n",
       "                `&lt;div&gt;\n",
       "                     &lt;i&gt;원주_스카이위크(출렁다리)&lt;/i&gt;\n",
       "                 &lt;/div&gt;`,\n",
       "                {&quot;sticky&quot;: true}\n",
       "            );\n",
       "        \n",
       "    \n",
       "            var marker_0ccddce8c98a9590b0aca04690ef0610 = L.marker(\n",
       "                [37.4188889, 127.8230556],\n",
       "                {}\n",
       "            ).addTo(map_e45950d105af7971ee4a3fb3ff9eb6c4);\n",
       "        \n",
       "    \n",
       "            var icon_b261503f505e93e3605a2171941a28cb = L.AwesomeMarkers.icon(\n",
       "                {&quot;extraClasses&quot;: &quot;fa-rotate-0&quot;, &quot;icon&quot;: &quot;cloud&quot;, &quot;iconColor&quot;: &quot;blue&quot;, &quot;markerColor&quot;: &quot;green&quot;, &quot;prefix&quot;: &quot;glyphicon&quot;}\n",
       "            );\n",
       "            marker_0ccddce8c98a9590b0aca04690ef0610.setIcon(icon_b261503f505e93e3605a2171941a28cb);\n",
       "        \n",
       "    \n",
       "            marker_0ccddce8c98a9590b0aca04690ef0610.bindTooltip(\n",
       "                `&lt;div&gt;\n",
       "                     &lt;i&gt;원주_뮤지엄산&lt;/i&gt;\n",
       "                 &lt;/div&gt;`,\n",
       "                {&quot;sticky&quot;: true}\n",
       "            );\n",
       "        \n",
       "&lt;/script&gt;\" style=\"position:absolute;width:100%;height:100%;left:0;top:0;border:none !important;\" allowfullscreen webkitallowfullscreen mozallowfullscreen></iframe></div></div>"
      ],
      "text/plain": [
       "<folium.folium.Map at 0x287f42401f0>"
      ]
     },
     "execution_count": 11,
     "metadata": {},
     "output_type": "execute_result"
    }
   ],
   "source": [
    "wonju_map_terrain"
   ]
  },
  {
   "cell_type": "code",
   "execution_count": null,
   "id": "530a7f37",
   "metadata": {},
   "outputs": [],
   "source": []
  }
 ],
 "metadata": {
  "kernelspec": {
   "display_name": "Python 3 (ipykernel)",
   "language": "python",
   "name": "python3"
  },
  "language_info": {
   "codemirror_mode": {
    "name": "ipython",
    "version": 3
   },
   "file_extension": ".py",
   "mimetype": "text/x-python",
   "name": "python",
   "nbconvert_exporter": "python",
   "pygments_lexer": "ipython3",
   "version": "3.9.12"
  }
 },
 "nbformat": 4,
 "nbformat_minor": 5
}
